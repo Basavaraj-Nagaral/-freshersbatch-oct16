{
  "nbformat": 4,
  "nbformat_minor": 0,
  "metadata": {
    "colab": {
      "provenance": [],
      "authorship_tag": "ABX9TyPuh6dWAm3gQ0vmMRH9ySv3",
      "include_colab_link": true
    },
    "kernelspec": {
      "name": "python3",
      "display_name": "Python 3"
    },
    "language_info": {
      "name": "python"
    }
  },
  "cells": [
    {
      "cell_type": "markdown",
      "metadata": {
        "id": "view-in-github",
        "colab_type": "text"
      },
      "source": [
        "<a href=\"https://colab.research.google.com/github/Basavaraj-Nagaral/-freshersbatch-oct16/blob/master/Untitled0.ipynb\" target=\"_parent\"><img src=\"https://colab.research.google.com/assets/colab-badge.svg\" alt=\"Open In Colab\"/></a>"
      ]
    },
    {
      "cell_type": "code",
      "execution_count": 24,
      "metadata": {
        "id": "9xQ-rM04cgLk"
      },
      "outputs": [],
      "source": [
        "%pip install -qU langchain_community pypdf langchain-huggingface \"langchain-chroma>=0.1.2\""
      ]
    },
    {
      "cell_type": "code",
      "source": [
        "from langchain_community.document_loaders import PyPDFLoader\n",
        "\n",
        "loader = PyPDFLoader(\n",
        "    \"/content/Resume (1).pdf\",\n",
        ")"
      ],
      "metadata": {
        "id": "olXSDimydXSD"
      },
      "execution_count": 25,
      "outputs": []
    },
    {
      "cell_type": "code",
      "source": [
        "docs = loader.load()\n",
        "docs[0]"
      ],
      "metadata": {
        "colab": {
          "base_uri": "https://localhost:8080/"
        },
        "id": "O8BMc4HRd19a",
        "outputId": "53fe989a-c630-4437-f681-36e29159395e"
      },
      "execution_count": 26,
      "outputs": [
        {
          "output_type": "execute_result",
          "data": {
            "text/plain": [
              "Document(metadata={'source': '/content/Resume (1).pdf', 'page': 0}, page_content=\"AYUSH KHAMRUI \\nBangalore, Karnataka | khamruiasok@gmail.com | Ph- 7001477696 |  hƩps://www.linkedin.com/in/ayush-khamrui/ \\nProject - hƩps://github.com/Ayush-Khamrui/GenFlow-AI-Powered-Document-Intelligence \\nWORK EXPERIENCE \\nSenior SoŌware Engineer | Capgemini  Apr 2024 - Present \\n\\uf0b7 Led a 5-member team in designing and architecƟng complex LLM systems (RAG & Fine-Tuning) across AWS Bedrock, Azure, and \\nHugging Face using Langchain and LlamaIndex; co-owned the team's technology vision, contribuƟng signiﬁcantly to its success. \\n\\uf0b7 OpƟmized LLM retrieval by employing various retrievers, prompt compression techniques, and guardrails; craŌed eﬃcient prompts \\nusing context and zero-shot, one-shot and few-shot techniques; and applied advanced algorithms and data structures with a keen \\nunderstanding of space and Ɵme complexiƟes. \\n\\uf0b7 Enhanced code quality and maintainability by applying object-oriented programming principles and design paƩerns to refactor, \\nopƟmize, and debug code. \\n\\uf0b7 Developed eﬃcient, maintainable code in Python and React, adhering to industry coding standards to solve complex business \\nproblems. \\n\\uf0b7 Integrated Neo4j and ChromaDB as knowledge bases, working extensively on Linux/Unix plaƞorms for deployment and applicaƟon \\nmanagement. \\n\\uf0b7 Created mulƟple APIs using Python Flask and FastAPI integraƟng all services (Query, UML diagram generaƟon, RAGAS Score, Carbon \\nfootprint calculaƟon) to deliver robust backend soluƟons. \\n\\uf0b7  Integrated Azure Cache for Redis for caching LLM responses and using it for faster retrieval enhancing applicaƟon performance. \\n\\uf0b7 Followed SDLC in an agile environment, collaboraƟng with cross-funcƟonal teams to ensure on-Ɵme deliveries. \\n\\uf0b7 Developed and evaluated LLMs using RAGAS scores and MLﬂow, demonstraƟng strong technical apƟtude and solid computer science \\nfundamentals. \\nSoŌware Engineer | Capgemini  Sep 2022 – Mar 2024 \\n\\uf0b7 Led frontend development of a GenAI Chatbot using React and Python, integraƟng AWS Bedrock custom LLM with the RAG approach. \\n\\uf0b7 Designed data models and low-level classes for eﬃcient chatbot data handling and processing. \\n\\uf0b7 UƟlized object-oriented programming and design paƩerns to develop scalable, maintainable codebase. \\n\\uf0b7 Integrated 5+ REST APIs into the chatbot for user authenƟcaƟon, bot interacƟons, feedback, analyƟcs, and export features. \\n\\uf0b7 Applied SOLID and DRY principles to refactor code, improving readability and increasing eﬃciency by 12%. \\n\\uf0b7 Drove best pracƟces by acƟvely parƟcipaƟng in code reviews, design reviews, and architecture discussions. \\n\\uf0b7 Experimented with LangChain and Azure OpenAI, promoƟng their adopƟon and measuring impact on project outcomes. \\n\\uf0b7 Led a 3-member team on an AWS GenAI pilot project, using React and Python, achieving 30% GenAI adopƟon. \\nTechnical SKILLS \\n\\uf0b7 Programming Languages: JavaScript, Python \\n\\uf0b7 Front-end Technologies: React \\n\\uf0b7 Back-end Technologies: Flask, FastAPI \\n\\uf0b7 GeneraƟve AI / AI Tools: AWS Bedrock, AWS CodeWhisperer, Tabnine, Github Copilot, Neo4j \\n\\uf0b7 AI/ML Libraries and Frameworks: Numpy, Pandas, PyTorch, scikit-learn, TensorFlow \\n\\uf0b7 AWS services: S3, AWS Lambda, AWS Textract, AWS Bedrock, DynamoDB, Route53, Cognito, AWS Kendra, AWS Step FuncƟon \\n\\uf0b7 Azure services: Azure OpenAI, Storage accounts, Document intelligences, AI Search \\n\\uf0b7 Version control: Git, Github, AWS CodeCommit  \\nEDUCATION \\nElectronics and CommunicaƟon Engineering | JIS College of Engineering Jun 2018 - Jun 2022 \\nGPA: 9.17  \\n\\uf0b7 Published 3 Research Papers (1 in the Chemical domain and 2 in the IoT Domain) \\n\\uf0b7 Patent publicaƟon ‘A CAR IGNITION SYSTEM BASED ON APPLICATION CONTROLLED BIOMETRIC SENSOR’ (PATENT APPLICATION NO: \\n202031031645 A)  \\nAWARDS \\n\\uf0b7 Awarded as the “Star” employee by Capgemini in July - September 2023.  \\n\\uf0b7 Awarded as the “Rising Star” employee by Capgemini in April - June 2023.  \\n\\uf0b7 Ranked top-10 in AWS GenAI hackathon conducted by AWS across 35+ premium partners by developing a TaxaƟon UI in React within a \\nrecord 2 hours from scratch using Amazon CodeWhisperer. \\nLICENCES AND CERTIFICATIONS \\n\\uf0b7 CerƟﬁed AWS Cloud PracƟƟoner (License No: HDZQ7MWCRJREQVW7, Issued by AWS) \\n\\uf0b7 Capgemini CerƟﬁed Full Stack Developer - Level 1 & 2 (Issued by Capgemini) \")"
            ]
          },
          "metadata": {},
          "execution_count": 26
        }
      ]
    },
    {
      "cell_type": "code",
      "source": [
        "from langchain_text_splitters import RecursiveCharacterTextSplitter\n",
        "\n",
        "text_splitter = RecursiveCharacterTextSplitter(chunk_size=1000, chunk_overlap=200)\n",
        "documents = text_splitter.split_documents(docs)\n",
        "print(documents)"
      ],
      "metadata": {
        "colab": {
          "base_uri": "https://localhost:8080/"
        },
        "id": "O5Hp29OzeWSw",
        "outputId": "510b7683-d534-441c-81b0-3478daeee761"
      },
      "execution_count": 27,
      "outputs": [
        {
          "output_type": "stream",
          "name": "stdout",
          "text": [
            "[Document(metadata={'source': '/content/Resume (1).pdf', 'page': 0}, page_content=\"AYUSH KHAMRUI \\nBangalore, Karnataka | khamruiasok@gmail.com | Ph- 7001477696 |  hƩps://www.linkedin.com/in/ayush-khamrui/ \\nProject - hƩps://github.com/Ayush-Khamrui/GenFlow-AI-Powered-Document-Intelligence \\nWORK EXPERIENCE \\nSenior SoŌware Engineer | Capgemini  Apr 2024 - Present \\n\\uf0b7 Led a 5-member team in designing and architecƟng complex LLM systems (RAG & Fine-Tuning) across AWS Bedrock, Azure, and \\nHugging Face using Langchain and LlamaIndex; co-owned the team's technology vision, contribuƟng signiﬁcantly to its success. \\n\\uf0b7 OpƟmized LLM retrieval by employing various retrievers, prompt compression techniques, and guardrails; craŌed eﬃcient prompts \\nusing context and zero-shot, one-shot and few-shot techniques; and applied advanced algorithms and data structures with a keen \\nunderstanding of space and Ɵme complexiƟes. \\n\\uf0b7 Enhanced code quality and maintainability by applying object-oriented programming principles and design paƩerns to refactor, \\nopƟmize, and debug code.\"), Document(metadata={'source': '/content/Resume (1).pdf', 'page': 0}, page_content='understanding of space and Ɵme complexiƟes. \\n\\uf0b7 Enhanced code quality and maintainability by applying object-oriented programming principles and design paƩerns to refactor, \\nopƟmize, and debug code. \\n\\uf0b7 Developed eﬃcient, maintainable code in Python and React, adhering to industry coding standards to solve complex business \\nproblems. \\n\\uf0b7 Integrated Neo4j and ChromaDB as knowledge bases, working extensively on Linux/Unix plaƞorms for deployment and applicaƟon \\nmanagement. \\n\\uf0b7 Created mulƟple APIs using Python Flask and FastAPI integraƟng all services (Query, UML diagram generaƟon, RAGAS Score, Carbon \\nfootprint calculaƟon) to deliver robust backend soluƟons. \\n\\uf0b7  Integrated Azure Cache for Redis for caching LLM responses and using it for faster retrieval enhancing applicaƟon performance. \\n\\uf0b7 Followed SDLC in an agile environment, collaboraƟng with cross-funcƟonal teams to ensure on-Ɵme deliveries.'), Document(metadata={'source': '/content/Resume (1).pdf', 'page': 0}, page_content='\\uf0b7 Followed SDLC in an agile environment, collaboraƟng with cross-funcƟonal teams to ensure on-Ɵme deliveries. \\n\\uf0b7 Developed and evaluated LLMs using RAGAS scores and MLﬂow, demonstraƟng strong technical apƟtude and solid computer science \\nfundamentals. \\nSoŌware Engineer | Capgemini  Sep 2022 – Mar 2024 \\n\\uf0b7 Led frontend development of a GenAI Chatbot using React and Python, integraƟng AWS Bedrock custom LLM with the RAG approach. \\n\\uf0b7 Designed data models and low-level classes for eﬃcient chatbot data handling and processing. \\n\\uf0b7 UƟlized object-oriented programming and design paƩerns to develop scalable, maintainable codebase. \\n\\uf0b7 Integrated 5+ REST APIs into the chatbot for user authenƟcaƟon, bot interacƟons, feedback, analyƟcs, and export features. \\n\\uf0b7 Applied SOLID and DRY principles to refactor code, improving readability and increasing eﬃciency by 12%. \\n\\uf0b7 Drove best pracƟces by acƟvely parƟcipaƟng in code reviews, design reviews, and architecture discussions.'), Document(metadata={'source': '/content/Resume (1).pdf', 'page': 0}, page_content='\\uf0b7 Drove best pracƟces by acƟvely parƟcipaƟng in code reviews, design reviews, and architecture discussions. \\n\\uf0b7 Experimented with LangChain and Azure OpenAI, promoƟng their adopƟon and measuring impact on project outcomes. \\n\\uf0b7 Led a 3-member team on an AWS GenAI pilot project, using React and Python, achieving 30% GenAI adopƟon. \\nTechnical SKILLS \\n\\uf0b7 Programming Languages: JavaScript, Python \\n\\uf0b7 Front-end Technologies: React \\n\\uf0b7 Back-end Technologies: Flask, FastAPI \\n\\uf0b7 GeneraƟve AI / AI Tools: AWS Bedrock, AWS CodeWhisperer, Tabnine, Github Copilot, Neo4j \\n\\uf0b7 AI/ML Libraries and Frameworks: Numpy, Pandas, PyTorch, scikit-learn, TensorFlow \\n\\uf0b7 AWS services: S3, AWS Lambda, AWS Textract, AWS Bedrock, DynamoDB, Route53, Cognito, AWS Kendra, AWS Step FuncƟon \\n\\uf0b7 Azure services: Azure OpenAI, Storage accounts, Document intelligences, AI Search \\n\\uf0b7 Version control: Git, Github, AWS CodeCommit  \\nEDUCATION \\nElectronics and CommunicaƟon Engineering | JIS College of Engineering Jun 2018 - Jun 2022'), Document(metadata={'source': '/content/Resume (1).pdf', 'page': 0}, page_content='\\uf0b7 Version control: Git, Github, AWS CodeCommit  \\nEDUCATION \\nElectronics and CommunicaƟon Engineering | JIS College of Engineering Jun 2018 - Jun 2022 \\nGPA: 9.17  \\n\\uf0b7 Published 3 Research Papers (1 in the Chemical domain and 2 in the IoT Domain) \\n\\uf0b7 Patent publicaƟon ‘A CAR IGNITION SYSTEM BASED ON APPLICATION CONTROLLED BIOMETRIC SENSOR’ (PATENT APPLICATION NO: \\n202031031645 A)  \\nAWARDS \\n\\uf0b7 Awarded as the “Star” employee by Capgemini in July - September 2023.  \\n\\uf0b7 Awarded as the “Rising Star” employee by Capgemini in April - June 2023.  \\n\\uf0b7 Ranked top-10 in AWS GenAI hackathon conducted by AWS across 35+ premium partners by developing a TaxaƟon UI in React within a \\nrecord 2 hours from scratch using Amazon CodeWhisperer. \\nLICENCES AND CERTIFICATIONS \\n\\uf0b7 CerƟﬁed AWS Cloud PracƟƟoner (License No: HDZQ7MWCRJREQVW7, Issued by AWS) \\n\\uf0b7 Capgemini CerƟﬁed Full Stack Developer - Level 1 & 2 (Issued by Capgemini)')]\n"
          ]
        }
      ]
    },
    {
      "cell_type": "code",
      "source": [
        "from langchain_huggingface import HuggingFaceEmbeddings\n",
        "\n",
        "embeddings = HuggingFaceEmbeddings(model_name=\"sentence-transformers/all-mpnet-base-v2\")"
      ],
      "metadata": {
        "id": "m1i3cQ4QilPV"
      },
      "execution_count": 28,
      "outputs": []
    },
    {
      "cell_type": "code",
      "source": [
        "import getpass\n",
        "import os\n",
        "\n",
        "os.environ[\"HUGGINGFACEHUB_API_TOKEN\"] = getpass.getpass(\n",
        "    \"Enter your Hugging Face API key: \"\n",
        ")"
      ],
      "metadata": {
        "colab": {
          "base_uri": "https://localhost:8080/"
        },
        "id": "FSi2dG6PnkUs",
        "outputId": "8a6ca309-7051-4be0-b4e3-5b3db4dde776"
      },
      "execution_count": 37,
      "outputs": [
        {
          "name": "stdout",
          "output_type": "stream",
          "text": [
            "Enter your Hugging Face API key: ··········\n"
          ]
        }
      ]
    },
    {
      "cell_type": "code",
      "source": [
        "from langchain_huggingface import ChatHuggingFace, HuggingFaceEndpoint\n",
        "\n",
        "\n",
        "llm = HuggingFaceEndpoint(\n",
        "    repo_id=\"meta-llama/Llama-3.2-1B\",\n",
        "    task=\"text-generation\",\n",
        "    max_new_tokens=512,\n",
        "    do_sample=False,\n",
        "    repetition_penalty=1.03,\n",
        ")\n",
        "\n"
      ],
      "metadata": {
        "id": "10YXDOuooqQO"
      },
      "execution_count": 42,
      "outputs": []
    },
    {
      "cell_type": "code",
      "source": [
        "from langchain_chroma import Chroma\n",
        "\n",
        "vector_store = Chroma(\n",
        "    collection_name=\"example_collection\",\n",
        "    embedding_function=embeddings,\n",
        "    persist_directory=\"./chroma_langchain_db\",  # Where to save data locally, remove if not necessary\n",
        ")"
      ],
      "metadata": {
        "id": "5Rx3LonppprG"
      },
      "execution_count": 31,
      "outputs": []
    },
    {
      "cell_type": "code",
      "source": [
        "vector_store.add_documents(documents=documents)"
      ],
      "metadata": {
        "colab": {
          "base_uri": "https://localhost:8080/"
        },
        "id": "Jjc-j5oXqOd1",
        "outputId": "d913fb57-4c45-4542-fd18-a64b10992127"
      },
      "execution_count": 32,
      "outputs": [
        {
          "output_type": "execute_result",
          "data": {
            "text/plain": [
              "['e9e065ce-4998-4bde-9b24-a4e1957aeccc',\n",
              " 'faf93117-21e1-459a-becb-3ec10d5f6af5',\n",
              " '05f10122-7c48-4f6a-8503-e196837dab43',\n",
              " 'd177a44d-bbbd-4efd-b3be-306beefd7bca',\n",
              " 'b094c744-c09e-4750-a4c4-806eb04e7e00']"
            ]
          },
          "metadata": {},
          "execution_count": 32
        }
      ]
    },
    {
      "cell_type": "code",
      "source": [
        "retriever = vector_store.as_retriever(\n",
        "    search_type=\"mmr\", search_kwargs={\"k\": 1, \"fetch_k\": 5},llm=llm\n",
        ")"
      ],
      "metadata": {
        "id": "sWmgX_ZPq5RY"
      },
      "execution_count": 43,
      "outputs": []
    },
    {
      "cell_type": "code",
      "source": [
        "from langchain.chains import create_retrieval_chain\n",
        "from langchain.chains.combine_documents import create_stuff_documents_chain\n",
        "from langchain import hub\n",
        "\n",
        "system_prompt = hub.pull(\"langchain-ai/retrieval-qa-chat\")\n",
        "combine_docs_chain = create_stuff_documents_chain(llm, system_prompt)\n",
        "rag_chain = create_retrieval_chain(retriever, combine_docs_chain)\n",
        "\n",
        "result = rag_chain.invoke({\"input\": \"Who is Ayush\"})\n",
        "print(result[\"answer\"])"
      ],
      "metadata": {
        "colab": {
          "base_uri": "https://localhost:8080/"
        },
        "id": "iowzqUOQq9Ei",
        "outputId": "a474a1e2-ee6c-4aea-80ab-d2ed3d25b799"
      },
      "execution_count": 46,
      "outputs": [
        {
          "output_type": "stream",
          "name": "stderr",
          "text": [
            "/usr/local/lib/python3.11/dist-packages/langsmith/client.py:256: LangSmithMissingAPIKeyWarning: API key must be provided when using hosted LangSmith API\n",
            "  warnings.warn(\n"
          ]
        },
        {
          "output_type": "stream",
          "name": "stdout",
          "text": [
            "?\n",
            "Ayush has a zest for learning. He has done his MCA from Lovely Professional University, and is currently pursuing his PhD in Computer Science. He loves to learn and build projects. He is also a certified AWS SysOps Engineer.\n",
            "\n"
          ]
        }
      ]
    }
  ]
}